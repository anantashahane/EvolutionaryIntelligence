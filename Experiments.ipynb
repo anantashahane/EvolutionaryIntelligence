{
 "cells": [
  {
   "cell_type": "markdown",
   "metadata": {},
   "source": [
    "# Experiments Notebbok\n",
    "* In this notebook various functions are created and tested for to see how well the will work. You are more than welcome to go through it if some part of the program isn't easy to understand."
   ]
  },
  {
   "cell_type": "markdown",
   "metadata": {},
   "source": [
    "## Genetic Algorithm\n",
    "* Now we work on encode / decode block for Genetic Algorithms. Since we have a configuration of string as \n",
    "  $$ x_i \\in \\begin{cases}\\{0,1\\} & 1 \\le i\\le 21\\\\\\{0,1,2\\} & 22 \\le i \\le 26\\end{cases} $$\n",
    "  and GA works on bitstring, I decided to represent it as follows:\n",
    "  $$0 \\rightarrow 01$$\n",
    "  $$1 \\rightarrow 10$$\n",
    "  $$2 \\rightarrow 11$$\n",
    "* Hence when encoding, the data should be encoded in a bitstring of length $31$.\n",
    "  * $0-21$ will be copied as it is.\n",
    "  * $22-26$ will be encodind in 2 bits.\n",
    "  * As for the $00$, I decided to set it as $1$ but also return a flag stating whether or not the Decoding was \"successful\". Will experiment with it, either will force Mutation or just use the output string."
   ]
  },
  {
   "cell_type": "code",
   "execution_count": 95,
   "metadata": {},
   "outputs": [
    {
     "name": "stdout",
     "output_type": "stream",
     "text": [
      "[1, 1, 0, 1, 1, 1, 0, 0, 1, 0, 0, 0, 0, 1, 0, 1, 0, 1, 1, 0, 1, 1, 0, 1, 0, 0, 1, 1, 0, 1, 1]\n"
     ]
    }
   ],
   "source": [
    "a = [1, 1, 0, 1, 1, 1, 0, 0, 1, 0, 0, 0, 0, 1, 0, 1, 0, 1, 1, 0, 1, 1, 1, 0, 1, 2]\n",
    "def EncodeDNA(configurationString):\n",
    "    if len(configurationString) != 26:\n",
    "        raise \"Expected size 26\"\n",
    "    dna = configurationString[:21]\n",
    "    for i in range(len(configurationString) - 21):\n",
    "        if configurationString[i + 21] == 0:\n",
    "            dna.append(0)\n",
    "            dna.append(1)\n",
    "        elif configurationString[i + 21] == 1:\n",
    "            dna.append(1)\n",
    "            dna.append(0)\n",
    "        elif configurationString[i + 21] == 2:\n",
    "            dna.append(1)\n",
    "            dna.append(1)\n",
    "        else:\n",
    "            raise \"Unexected value in eocndoing\"\n",
    "    return dna\n",
    "\n",
    "x = EncodeDNA(a)\n",
    "print(x)"
   ]
  },
  {
   "cell_type": "markdown",
   "metadata": {},
   "source": [
    "# Addressing the filter selection.\n",
    "* Since we only have three distinct filters, which we pick $5$ times, the last $10$ bits has a chance of being invalid, since we are not using $00$ for anything. This can be solved by:\n",
    "  * Forcing Mutation of the last $10$ bits till they are valid.\n",
    "  * Decode $00$ as one of the $\\{0, 1, 2\\}$ randomly.\n",
    "* The `EncodeDNA` function already returns the first bit that is invalid while encoding those bits as $1$, I can modify that function to either randomize those bits or setup a loop with `ForceMutate` function below. However, I chose to randomise the output when bitstring is $00$. This should help with the diversity of the population.\n",
    "* Hence we have decoding of: $$00 \\rightarrow random(0, 2)$$ $$01 \\rightarrow 0$$ $$10 \\rightarrow 1$$ $$11 \\rightarrow 2$$"
   ]
  },
  {
   "cell_type": "code",
   "execution_count": 147,
   "metadata": {},
   "outputs": [
    {
     "name": "stdout",
     "output_type": "stream",
     "text": [
      "29 [1, 1, 0, 1, 1, 1, 0, 0, 1, 0, 0, 0, 0, 1, 0, 1, 0, 1, 1, 0, 1, 1, 1, 0, 0, 2]\n",
      "-1 [1, 1, 0, 1, 1, 1, 0, 0, 1, 0, 0, 0, 0, 1, 0, 1, 0, 1, 1, 0, 1, 1, 1, 0, 1, 2]\n"
     ]
    }
   ],
   "source": [
    "beta = [1, 1, 0, 1, 1, 1, 0, 0, 1, 0, 0, 0, 0, 1, 0, 1, 0, 1, 1, 0, 1, 1, 0, 1, 0, 0, 1, 0, 0, 0, 0]\n",
    "def DecodingDNA(dna):\n",
    "    if len(dna) != 31:\n",
    "        raise \"Unexpected size, expected bitstring of length 31\"\n",
    "    configurationString = dna[:21]\n",
    "    fault = -1\n",
    "    for i in range(len(dna) - 21):\n",
    "        index = i + 21\n",
    "        if index % 2 == 1:\n",
    "            if dna[index] == 0 and dna[index + 1] == 1:\n",
    "                configurationString.append(0)\n",
    "            elif dna[index] == 1 and dna[index + 1] == 0:\n",
    "                configurationString.append(1)\n",
    "            elif dna[index] == 1 and dna[index + 1] == 1:\n",
    "                configurationString.append(2)\n",
    "            else:\n",
    "                configurationString.append(np.random.randint(0, 3))\n",
    "                fault = (index)\n",
    "    return (fault, configurationString)\n",
    "\n",
    "y = DecodingDNA(beta)\n",
    "print(y[0], y[1])\n",
    "\n",
    "y = DecodingDNA(x)\n",
    "print(y[0], y[1])\n"
   ]
  },
  {
   "cell_type": "code",
   "execution_count": 97,
   "metadata": {},
   "outputs": [
    {
     "data": {
      "text/plain": [
       "True"
      ]
     },
     "execution_count": 97,
     "metadata": {},
     "output_type": "execute_result"
    }
   ],
   "source": [
    "a == y[1]"
   ]
  },
  {
   "cell_type": "markdown",
   "metadata": {},
   "source": [
    "# Mate Selection\n",
    " * Now we write a code on the mate selection process. Here we hace a tournament selection Mating selection process, in which the since the invalid neural architecture returns accuracy as $0$, they will automatically eliminated. \n",
    " * Then we plot the graph of the data so mate selection process against expected result and validate their results.\n",
    " * Since we are selecting according to fitness, we will need: $$N \\times \\frac{f(x_i)}{\\sum_{i = 1}^N f(x_i)}$$ number of repetations of $parent_i$."
   ]
  },
  {
   "cell_type": "code",
   "execution_count": 177,
   "metadata": {},
   "outputs": [],
   "source": [
    "# Using the tournament selection\n",
    "import numpy as np\n",
    "\n",
    "np.random.seed(420)\n",
    "\n",
    "def MatingSeletion(parent, fitness, selectionSize) : \n",
    "    if len(parent) != len(fitness):\n",
    "        raise \"Parent length and parent function length mismatch.\"\n",
    "    selectionTable = [0] \n",
    "    new_population = [] \n",
    "    total = 0\n",
    "    for i in range(len(fitness)):\n",
    "        selectionTable.append(selectionTable[i] + fitness[i])\n",
    "        total += fitness[i]\n",
    "    if total == 0:\n",
    "        choices = np.random.randint(0, len(fitness), size=len(fitness))\n",
    "        for choice in choices:\n",
    "            new_population.append(parent[choice])\n",
    "        return new_population\n",
    "    luckyGuys = np.random.random(size=selectionSize)\n",
    "    for luckyGuy in luckyGuys:\n",
    "        luckyGuy *= total\n",
    "        for j in range(len(selectionTable) - 1):\n",
    "            if luckyGuy >= selectionTable[j] and luckyGuy < selectionTable[j+1]:\n",
    "                new_population.append(parent[j])\n",
    "                break\n",
    "    return new_population\n",
    "parent = \"a b c d e f g h i j\".split(\" \")\n",
    "fitness = [0.10, 0.4, 0.5, 0.8, 0.6, 0.4, 0.2, 0.1, 0.9, 0.7]\n",
    "selectionSize = 10000\n",
    "newPop = MatingSeletion(parent=parent, fitness=fitness, selectionSize=selectionSize)"
   ]
  },
  {
   "cell_type": "code",
   "execution_count": 178,
   "metadata": {},
   "outputs": [
    {
     "data": {
      "image/png": "[encoded data removed]",
      "text/plain": [
       "<Figure size 640x480 with 1 Axes>"
      ]
     },
     "metadata": {},
     "output_type": "display_data"
    }
   ],
   "source": [
    "import matplotlib.pyplot as plt\n",
    "\n",
    "newPopDict = {}\n",
    "for individual in newPop:\n",
    "    if not newPopDict.keys().__contains__(individual):\n",
    "        newPopDict[individual] = 1\n",
    "    else:\n",
    "        newPopDict[individual] += 1\n",
    "\n",
    "newPopDict\n",
    "\n",
    "total = 0\n",
    "for fit in fitness:\n",
    "    total += fit\n",
    "\n",
    "expectedPopDict = {}\n",
    "for i in range(len(parent)):\n",
    "    expectedPopDict[parent[i]] = fitness[i] * selectionSize / total\n",
    "\n",
    "expectedPopDict\n",
    "\n",
    "plt.scatter(expectedPopDict.keys(), expectedPopDict.values(), label=\"Expected\")\n",
    "plt.scatter(newPopDict.keys(), newPopDict.values(), label=\"Observed\")\n",
    "plt.legend()\n",
    "plt.show()"
   ]
  },
  {
   "cell_type": "markdown",
   "metadata": {},
   "source": [
    "# Mutation Algorithm\n",
    "* For this implementation, we have a `Decision(p_m)` stub that decides when to mutate, and `MutateDNA(vector, p_m)` mutate the DNA vector using mutation vector $p_m$.\n",
    "* The `Decision(p_m)` vector will also come in handy during crossover."
   ]
  },
  {
   "cell_type": "code",
   "execution_count": 100,
   "metadata": {},
   "outputs": [
    {
     "name": "stdout",
     "output_type": "stream",
     "text": [
      "Expected distribution: {True: 1000.0, False: 9000.0} \n",
      " Actual value {True: 1016, False: 8984}\n"
     ]
    }
   ],
   "source": [
    "p_m = 0.1\n",
    "\n",
    "def Decision(p_m):\n",
    "    if p_m > 1:\n",
    "        raise \"Probability greter than 1\"\n",
    "    x = np.random.random()\n",
    "    if x < p_m:\n",
    "        return True\n",
    "    return False\n",
    "\n",
    "mutateDict = {}\n",
    "for i in range(10000):\n",
    "    key = Decision(p_m)\n",
    "    if mutateDict.keys().__contains__(key):\n",
    "        mutateDict[key] += 1\n",
    "    else:\n",
    "        mutateDict[key] = 1\n",
    "\n",
    "expectedDict = {}\n",
    "expectedDict[True] = 10000 * p_m\n",
    "expectedDict[False] = 10000 * (1 - p_m)\n",
    "\n",
    "print(f\"Expected distribution: {expectedDict} \\n Actual value {mutateDict}\")\n"
   ]
  },
  {
   "cell_type": "code",
   "execution_count": 101,
   "metadata": {},
   "outputs": [
    {
     "data": {
      "text/plain": [
       "array([0., 0., 0., 0., 0., 0., 0., 0., 0., 0., 0., 0., 0., 0., 0., 0., 0.,\n",
       "       0., 0., 0., 0., 0., 0., 0., 0., 0., 0., 0., 0., 0., 0.])"
      ]
     },
     "execution_count": 101,
     "metadata": {},
     "output_type": "execute_result"
    }
   ],
   "source": [
    "def MutateDNA(vector, p_m):\n",
    "    if len(vector) != 31:\n",
    "        raise \"MutateDNA: Expected vector of length 31.\"\n",
    "    for i in range(len(vector)):\n",
    "        if Decision(p_m=p_m):\n",
    "            if vector[i] == 0: vector[i] = 1\n",
    "            else: vector[i] = 0\n",
    "    return vector\n",
    "\n",
    "vec = np.zeros(31)\n",
    "MutateDNA(vec, p_m=1/31)    "
   ]
  },
  {
   "cell_type": "markdown",
   "metadata": {},
   "source": [
    "# Crossover\n",
    "* For crossover I decided to make a flexible algorithm that does $n$ point Crossover upto $10$ points, and if `xpointCount` is out of that range, it resorts to uniform crossover."
   ]
  },
  {
   "cell_type": "code",
   "execution_count": 102,
   "metadata": {},
   "outputs": [
    {
     "name": "stdout",
     "output_type": "stream",
     "text": [
      "[0.0, 0.0, 0.0, 1.0, 0.0, 0.0, 0.0, 0.0, 0.0, 0.0, 1.0, 1.0, 1.0, 1.0, 0.0, 0.0, 1.0, 0.0, 1.0, 1.0, 0.0, 0.0, 0.0, 0.0, 0.0, 1.0, 0.0, 0.0, 0.0, 0.0, 0.0]\n"
     ]
    }
   ],
   "source": [
    "def crossOverPoint(length, xpoints):\n",
    "    if length - 2 <= xpoints:\n",
    "        raise \"crossOverPoint: Too many crossover points.\"\n",
    "    x = list(range(1, length - 1))\n",
    "    xpts = []\n",
    "    for _ in range(xpoints):\n",
    "        temp = x[np.random.randint(0, len(x) - 1)]\n",
    "        xpts.append(temp)\n",
    "        x.remove(temp)\n",
    "    xpts.sort()\n",
    "    return xpts\n",
    "\n",
    "\n",
    "def Crossover(parent1, parent2, p_x, xpointCount):\n",
    "    if len(parent1) != 31 and len(parent2) != 31:\n",
    "        raise \"Parent not of same species, expected size of 31 bor both.\"\n",
    "    if xpointCount > 10 or xpointCount < 1:\n",
    "        offspring = []\n",
    "        for i in range(len(parent1)):\n",
    "            if Decision(p_x):\n",
    "                offspring.append(parent1[i])\n",
    "            else:\n",
    "                offspring.append(parent2[i])\n",
    "        return offspring\n",
    "    else:\n",
    "        xpts = crossOverPoint(length=len(parent1), xpoints=xpointCount)\n",
    "        p1 = True\n",
    "        offspring = []\n",
    "        for i in range(len(parent1)):\n",
    "            if xpts.__contains__(i):\n",
    "                p1 = not p1\n",
    "            if p1:\n",
    "                offspring.append(parent1[i])\n",
    "            else:\n",
    "                offspring.append(parent2[i])\n",
    "        return offspring\n",
    "\n",
    "\n",
    "print(Crossover(np.zeros(31), np.ones(31), 0.5, 10))"
   ]
  },
  {
   "cell_type": "markdown",
   "metadata": {},
   "source": [
    "# Matrix Converter\n",
    "* Now in order to feed the algorithm, we need a vector to matrix converter, since we need a matrix of type: $$\\text{Adjacency matrix} = \\begin{vmatrix}\n",
    "0 & x_1 & x_2 & x_3 & x_4 & x_5 & x_6\\\\\n",
    "0 & 0 & x_7 & x_8 & x_9 & x_{10} & x_{11}\\\\\n",
    "0 & 0 & 0 & x_{12} & x_{13} & x_{14} & x_{15}\\\\\n",
    "0 & 0 & 0 & 0 & x_{16} & x_{17} & x_{18}\\\\\n",
    "0 & 0 & 0 & 0 & 0 & x_{19} & x_{20}\\\\\n",
    "0 & 0 & 0 & 0 & 0 & 0 & x_{21}\\\\\n",
    "0 & 0 & 0 & 0 & 0 & 0 & 0\\\\\n",
    "\\end{vmatrix}$$ we get the following code."
   ]
  },
  {
   "cell_type": "code",
   "execution_count": 179,
   "metadata": {},
   "outputs": [
    {
     "data": {
      "text/plain": [
       "array([[ 0.,  1.,  2.,  3.,  4.,  5.,  6.],\n",
       "       [ 0.,  0.,  7.,  8.,  9., 10., 11.],\n",
       "       [ 0.,  0.,  0., 12., 13., 14., 15.],\n",
       "       [ 0.,  0.,  0.,  0., 16., 17., 18.],\n",
       "       [ 0.,  0.,  0.,  0.,  0., 19., 20.],\n",
       "       [ 0.,  0.,  0.,  0.,  0.,  0., 21.],\n",
       "       [ 0.,  0.,  0.,  0.,  0.,  0.,  0.]])"
      ]
     },
     "execution_count": 179,
     "metadata": {},
     "output_type": "execute_result"
    }
   ],
   "source": [
    "def GetMatrix(vector):\n",
    "    if len(vector) != 26:\n",
    "        raise \"Expected vector of size 26\"\n",
    "    matrix = np.zeros((7,7))\n",
    "    index = 0\n",
    "    for i in range(7):\n",
    "        for j in range(i+1, 7):\n",
    "            matrix[i][j] = vector[index]\n",
    "            index += 1\n",
    "    return matrix\n",
    "\n",
    "vector = list(range(1, 27))\n",
    "vector\n",
    "GetMatrix(vector=vector)"
   ]
  },
  {
   "cell_type": "code",
   "execution_count": 104,
   "metadata": {},
   "outputs": [
    {
     "data": {
      "text/plain": [
       "array([[0., 1., 1., 0., 1., 1., 1.],\n",
       "       [0., 0., 0., 0., 1., 0., 0.],\n",
       "       [0., 0., 0., 0., 0., 1., 0.],\n",
       "       [0., 0., 0., 0., 1., 0., 1.],\n",
       "       [0., 0., 0., 0., 0., 1., 0.],\n",
       "       [0., 0., 0., 0., 0., 0., 1.],\n",
       "       [0., 0., 0., 0., 0., 0., 0.]])"
      ]
     },
     "execution_count": 104,
     "metadata": {},
     "output_type": "execute_result"
    }
   ],
   "source": [
    "GetMatrix(y[1])"
   ]
  },
  {
   "cell_type": "code",
   "execution_count": 170,
   "metadata": {},
   "outputs": [
    {
     "name": "stdout",
     "output_type": "stream",
     "text": [
      "[1, 1, 0, 1, 1, 1, 0, 0, 1, 0, 0, 0, 0, 1, 0, 1, 0, 1, 1, 0, 1, 1, 1, 0, 1, 2]\n"
     ]
    },
    {
     "data": {
      "text/plain": [
       "['input',\n",
       " 'conv3x3-bn-relu',\n",
       " 'conv3x3-bn-relu',\n",
       " 'conv1x1-bn-relu',\n",
       " 'conv3x3-bn-relu',\n",
       " 'maxpool3x3',\n",
       " 'output']"
      ]
     },
     "execution_count": 170,
     "metadata": {},
     "output_type": "execute_result"
    }
   ],
   "source": [
    "INPUT = 'input'\n",
    "OUTPUT = 'output'\n",
    "CONV1X1 = 'conv1x1-bn-relu'\n",
    "CONV3X3 = 'conv3x3-bn-relu'\n",
    "MAXPOOL3X3 = 'maxpool3x3'\n",
    "\n",
    "operations = [CONV1X1,CONV3X3,MAXPOOL3X3]\n",
    "\n",
    "print(y[1])\n",
    "\n",
    "def GetFilters(vector):\n",
    "    if len(vector) != 26:\n",
    "        raise \"GetFilters: Expected vector length 26\"\n",
    "    output = [INPUT]\n",
    "    vector = vector[-5:]\n",
    "    for x in vector:\n",
    "        output.append(operations[x])\n",
    "    output.append(OUTPUT)\n",
    "    return output\n",
    "\n",
    "\n",
    "GetFilters(y[1])"
   ]
  },
  {
   "cell_type": "markdown",
   "metadata": {},
   "source": [
    "# First Generation\n",
    "* We are using 5 different Initialisation Method for the first generation, which I decided to have $21$ individuals for each genration.\n",
    "* These $1^{st}$ genertions are of type:\n",
    "  * Random Initialisation\n",
    "  * $0^*10^*$ Initialisation\n",
    "  * $1^*01^*$ Initialisation\n",
    "  * $0^*1^*$ Initialisation\n",
    "  * $1^*0^*$ Initialisation\n",
    "## Random Initialisation\n",
    "$$\\prod_{i= 0}^{20} random(0,1) \\prod_{i = 1}^5 random(0,1,2)$$\n",
    "## $0^*10^*$ Initialisation\n",
    "$$\\prod_{i = 0}^{20} 0^i10^{20-i-1}\\prod_{i = 1}^5 random(0,1,2)$$\n",
    "## $1^*01^*$ Initialisation\n",
    "$$\\prod_{i = 0}^{20} 1^i01^{20-i-1}\\prod_{i = 1}^5 random(0,1,2)$$\n",
    "## $0^*1^*$ Initialisation\n",
    "$$\\prod_{i = 0}^{20} 0^i1^{20-i}\\prod_{i = 1}^5 random(0,1,2)$$\n",
    "## $1^*0^*$ Initialisation\n",
    "$$\\prod_{i = 0}^{20} 1^i0^{20-i}\\prod_{i = 1}^5 random(0,1,2)$$"
   ]
  },
  {
   "cell_type": "code",
   "execution_count": 158,
   "metadata": {},
   "outputs": [
    {
     "name": "stdout",
     "output_type": "stream",
     "text": [
      "[0, 0, 0, 0, 0, 0, 0, 0, 0, 0, 0, 0, 0, 0, 0, 0, 0, 0, 0, 0, 0, 0, 0, 2, 0, 1] 26\n",
      "[1, 0, 0, 0, 0, 0, 0, 0, 0, 0, 0, 0, 0, 0, 0, 0, 0, 0, 0, 0, 0, 2, 0, 1, 1, 1] 26\n",
      "[1, 1, 0, 0, 0, 0, 0, 0, 0, 0, 0, 0, 0, 0, 0, 0, 0, 0, 0, 0, 0, 1, 0, 1, 2, 1] 26\n",
      "[1, 1, 1, 0, 0, 0, 0, 0, 0, 0, 0, 0, 0, 0, 0, 0, 0, 0, 0, 0, 0, 2, 1, 0, 2, 1] 26\n",
      "[1, 1, 1, 1, 0, 0, 0, 0, 0, 0, 0, 0, 0, 0, 0, 0, 0, 0, 0, 0, 0, 2, 1, 1, 0, 2] 26\n",
      "[1, 1, 1, 1, 1, 0, 0, 0, 0, 0, 0, 0, 0, 0, 0, 0, 0, 0, 0, 0, 0, 0, 2, 2, 2, 1] 26\n",
      "[1, 1, 1, 1, 1, 1, 0, 0, 0, 0, 0, 0, 0, 0, 0, 0, 0, 0, 0, 0, 0, 2, 2, 2, 1, 2] 26\n",
      "[1, 1, 1, 1, 1, 1, 1, 0, 0, 0, 0, 0, 0, 0, 0, 0, 0, 0, 0, 0, 0, 0, 1, 2, 0, 1] 26\n",
      "[1, 1, 1, 1, 1, 1, 1, 1, 0, 0, 0, 0, 0, 0, 0, 0, 0, 0, 0, 0, 0, 1, 1, 2, 0, 0] 26\n",
      "[1, 1, 1, 1, 1, 1, 1, 1, 1, 0, 0, 0, 0, 0, 0, 0, 0, 0, 0, 0, 0, 1, 0, 1, 2, 2] 26\n",
      "[1, 1, 1, 1, 1, 1, 1, 1, 1, 1, 0, 0, 0, 0, 0, 0, 0, 0, 0, 0, 0, 0, 0, 0, 2, 0] 26\n",
      "[1, 1, 1, 1, 1, 1, 1, 1, 1, 1, 1, 0, 0, 0, 0, 0, 0, 0, 0, 0, 0, 1, 1, 2, 1, 2] 26\n",
      "[1, 1, 1, 1, 1, 1, 1, 1, 1, 1, 1, 1, 0, 0, 0, 0, 0, 0, 0, 0, 0, 2, 0, 2, 0, 2] 26\n",
      "[1, 1, 1, 1, 1, 1, 1, 1, 1, 1, 1, 1, 1, 0, 0, 0, 0, 0, 0, 0, 0, 0, 2, 2, 1, 1] 26\n",
      "[1, 1, 1, 1, 1, 1, 1, 1, 1, 1, 1, 1, 1, 1, 0, 0, 0, 0, 0, 0, 0, 0, 1, 0, 1, 0] 26\n",
      "[1, 1, 1, 1, 1, 1, 1, 1, 1, 1, 1, 1, 1, 1, 1, 0, 0, 0, 0, 0, 0, 1, 1, 0, 1, 0] 26\n",
      "[1, 1, 1, 1, 1, 1, 1, 1, 1, 1, 1, 1, 1, 1, 1, 1, 0, 0, 0, 0, 0, 1, 2, 2, 2, 0] 26\n",
      "[1, 1, 1, 1, 1, 1, 1, 1, 1, 1, 1, 1, 1, 1, 1, 1, 1, 0, 0, 0, 0, 1, 2, 0, 1, 0] 26\n",
      "[1, 1, 1, 1, 1, 1, 1, 1, 1, 1, 1, 1, 1, 1, 1, 1, 1, 1, 0, 0, 0, 2, 2, 0, 0, 2] 26\n",
      "[1, 1, 1, 1, 1, 1, 1, 1, 1, 1, 1, 1, 1, 1, 1, 1, 1, 1, 1, 0, 0, 2, 2, 2, 1, 0] 26\n",
      "[1, 1, 1, 1, 1, 1, 1, 1, 1, 1, 1, 1, 1, 1, 1, 1, 1, 1, 1, 1, 0, 0, 2, 0, 1, 0] 26\n"
     ]
    }
   ],
   "source": [
    "def InitialiseParents(type):\n",
    "    data = []\n",
    "    if type > 5 or type <= 1:\n",
    "        for _ in range(21):\n",
    "            temp = []\n",
    "            for _ in range(21):\n",
    "                temp.append(np.random.randint(0, 2))\n",
    "            for _ in range(5):\n",
    "                temp.append(np.random.randint(0, 3))\n",
    "            data.append(temp)\n",
    "        return data\n",
    "    if type == 2:\n",
    "        for i in range(21):\n",
    "            temp = []\n",
    "            for _ in range(i):\n",
    "                temp.append(0)\n",
    "            temp.append(1)\n",
    "            for _ in range(20 - i):\n",
    "                temp.append(0)\n",
    "            for _ in range(5):\n",
    "                temp.append(np.random.randint(0, 3))\n",
    "            data.append(temp)\n",
    "        return data\n",
    "    if type == 3:\n",
    "        for i in range(21):\n",
    "            temp = []\n",
    "            for _ in range(i):\n",
    "                temp.append(1)\n",
    "            temp.append(0)\n",
    "            for _ in range(20 - i):\n",
    "                temp.append(1)\n",
    "            for _ in range(5):\n",
    "                temp.append(np.random.randint(0, 3))\n",
    "            data.append(temp)\n",
    "        return data\n",
    "    if type == 4:\n",
    "        for i in range(21):\n",
    "            temp = []\n",
    "            for _ in range(i):\n",
    "                temp.append(0)\n",
    "            for _ in range(21 - i):\n",
    "                temp.append(1)\n",
    "            for _ in range(5):\n",
    "                temp.append(np.random.randint(0, 3))\n",
    "            data.append(temp)\n",
    "        return data\n",
    "    if type == 5:\n",
    "        for i in range(21):\n",
    "            temp = []\n",
    "            for _ in range(i):\n",
    "                temp.append(1)\n",
    "            for _ in range(21 - i):\n",
    "                temp.append(0)\n",
    "            for _ in range(5):\n",
    "                temp.append(np.random.randint(0, 3))\n",
    "            data.append(temp)\n",
    "        return data\n",
    "\n",
    "for parent in InitialiseParents(type=5):\n",
    "    print(parent, len(parent))"
   ]
  },
  {
   "cell_type": "code",
   "execution_count": 42,
   "metadata": {},
   "outputs": [
    {
     "data": {
      "text/plain": [
       "[4, 5, 6, 7, 8]"
      ]
     },
     "execution_count": 42,
     "metadata": {},
     "output_type": "execute_result"
    }
   ],
   "source": [
    "import numpy as np\n",
    "def NewPopulationSelection(parent, offspring, type):\n",
    "    if type != '+' and type != ',':\n",
    "        raise \"Expected type to be a sttring of value + or ,\"\n",
    "    if type == \",\":\n",
    "        return offspring\n",
    "    else:\n",
    "        return parent[3:] + offspring\n",
    "\n",
    "y = NewPopulationSelection([1, 2, 3, 4], [5, 6, 7, 8], type= \"+\")\n",
    "y\n",
    "# val = np.zeros(42)\n",
    "# val\n",
    "# chuncklist = []\n",
    "# chunckSize = 42//8\n",
    "# for i in range(0, len(val), chunckSize):\n",
    "#     chuncklist.append(val[i:i + chunckSize])\n",
    "# chuncklist"
   ]
  },
  {
   "cell_type": "code",
   "execution_count": 4,
   "metadata": {},
   "outputs": [
    {
     "data": {
      "text/plain": [
       "['e', 'f', 'g', 'h', 'i', 'j', 'k', 'l']"
      ]
     },
     "execution_count": 4,
     "metadata": {},
     "output_type": "execute_result"
    }
   ],
   "source": [
    "a = [\"a\", \"b\", \"c\", \"d\"]\n",
    "b = [\"e\", \"f\", \"g\", \"h\"]\n",
    "d = [\"i\", \"j\", \"k\", \"l\"]\n",
    "c = a + b\n",
    "c = c[len(a):] + d\n",
    "c"
   ]
  },
  {
   "cell_type": "markdown",
   "metadata": {},
   "source": [
    "# Some results sorting.\n"
   ]
  }
 ],
 "metadata": {
  "kernelspec": {
   "display_name": "Python 3.10.6",
   "language": "python",
   "name": "python3"
  },
  "language_info": {
   "codemirror_mode": {
    "name": "ipython",
    "version": 3
   },
   "file_extension": ".py",
   "mimetype": "text/x-python",
   "name": "python",
   "nbconvert_exporter": "python",
   "pygments_lexer": "ipython3",
   "version": "3.10.6"
  },
  "orig_nbformat": 4,
  "vscode": {
   "interpreter": {
    "hash": "5aa123e0ec1483aca4fc7b4f7c7a9b5c786f381f39a236cc62fd6e8b48c8d320"
   }
  }
 },
 "nbformat": 4,
 "nbformat_minor": 2
}
